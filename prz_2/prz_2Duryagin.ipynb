{
 "cells": [
  {
   "cell_type": "code",
   "execution_count": null,
   "id": "0414d1cd-a388-4549-ab09-9318e2227ef6",
   "metadata": {},
   "outputs": [],
   "source": [
    "Клонирование репозитория с логами"
   ]
  },
  {
   "cell_type": "code",
   "execution_count": 1,
   "id": "a1d1679b-1e4f-4183-b7e7-e9068c5da37e",
   "metadata": {
    "scrolled": true
   },
   "outputs": [
    {
     "name": "stdout",
     "output_type": "stream",
     "text": [
      "Cloning into 'loghub'...\n",
      "remote: Enumerating objects: 575, done.\u001b[K\n",
      "remote: Counting objects: 100% (171/171), done.\u001b[K\n",
      "remote: Compressing objects: 100% (39/39), done.\u001b[K\n",
      "remote: Total 575 (delta 145), reused 135 (delta 132), pack-reused 404 (from 1)\u001b[K\n",
      "Receiving objects: 100% (575/575), 7.27 MiB | 14.52 MiB/s, done.\n",
      "Resolving deltas: 100% (267/267), done.\n"
     ]
    }
   ],
   "source": [
    "!git clone https://github.com/logpai/loghub.git"
   ]
  },
  {
   "cell_type": "code",
   "execution_count": null,
   "id": "3dbb2465-741b-44ff-bf42-51bacfc20242",
   "metadata": {},
   "outputs": [],
   "source": [
    "Переход в директорию с логами HPC"
   ]
  },
  {
   "cell_type": "code",
   "execution_count": 2,
   "id": "73d00ff5-7b2b-4916-a4d4-ad0d62b6db02",
   "metadata": {},
   "outputs": [
    {
     "name": "stdout",
     "output_type": "stream",
     "text": [
      "/home/parallels/Desktop/SSSL/loghub/HPC\n"
     ]
    },
    {
     "name": "stderr",
     "output_type": "stream",
     "text": [
      "/usr/lib/python3/dist-packages/IPython/core/magics/osm.py:417: UserWarning: using dhist requires you to install the `pickleshare` library.\n",
      "  self.shell.db['dhist'] = compress_dhist(dhist)[-100:]\n"
     ]
    }
   ],
   "source": [
    "%cd loghub/HPC"
   ]
  },
  {
   "cell_type": "code",
   "execution_count": null,
   "id": "154c3e27-6ac8-430f-ab64-173156cc9055",
   "metadata": {},
   "outputs": [],
   "source": [
    "получение списка всех файлов логов в папке:"
   ]
  },
  {
   "cell_type": "code",
   "execution_count": 3,
   "id": "48306301-bd38-4608-8067-0af79164b011",
   "metadata": {},
   "outputs": [
    {
     "name": "stdout",
     "output_type": "stream",
     "text": [
      "Найденные файлы логов: ['HPC_2k.log']\n"
     ]
    }
   ],
   "source": [
    "import os\n",
    "\n",
    "# Получить список всех файлов логов в текущей директории\n",
    "log_files = [file for file in os.listdir() if file.endswith('.log')]\n",
    "print(\"Найденные файлы логов:\", log_files)"
   ]
  },
  {
   "cell_type": "code",
   "execution_count": null,
   "id": "be876e69-d4ae-4fca-bbf4-fa162105e36b",
   "metadata": {},
   "outputs": [],
   "source": [
    "Парсинг логов"
   ]
  },
  {
   "cell_type": "code",
   "execution_count": 24,
   "id": "cff798fc-1eb6-4a50-84d4-64fab98852f5",
   "metadata": {},
   "outputs": [
    {
     "data": {
      "text/html": [
       "<div>\n",
       "<style scoped>\n",
       "    .dataframe tbody tr th:only-of-type {\n",
       "        vertical-align: middle;\n",
       "    }\n",
       "\n",
       "    .dataframe tbody tr th {\n",
       "        vertical-align: top;\n",
       "    }\n",
       "\n",
       "    .dataframe thead th {\n",
       "        text-align: right;\n",
       "    }\n",
       "</style>\n",
       "<table border=\"1\" class=\"dataframe\">\n",
       "  <thead>\n",
       "    <tr style=\"text-align: right;\">\n",
       "      <th></th>\n",
       "      <th>id</th>\n",
       "      <th>node</th>\n",
       "      <th>component</th>\n",
       "      <th>state</th>\n",
       "      <th>hwid</th>\n",
       "    </tr>\n",
       "  </thead>\n",
       "  <tbody>\n",
       "    <tr>\n",
       "      <th>0</th>\n",
       "      <td>134681</td>\n",
       "      <td>node-246</td>\n",
       "      <td>unix.hw</td>\n",
       "      <td>state_change.unavailable</td>\n",
       "      <td>1973</td>\n",
       "    </tr>\n",
       "    <tr>\n",
       "      <th>1</th>\n",
       "      <td>350766</td>\n",
       "      <td>node-109</td>\n",
       "      <td>unix.hw</td>\n",
       "      <td>state_change.unavailable</td>\n",
       "      <td>3180</td>\n",
       "    </tr>\n",
       "    <tr>\n",
       "      <th>2</th>\n",
       "      <td>344518</td>\n",
       "      <td>node-246</td>\n",
       "      <td>unix.hw</td>\n",
       "      <td>state_change.unavailable</td>\n",
       "      <td>5089</td>\n",
       "    </tr>\n",
       "    <tr>\n",
       "      <th>3</th>\n",
       "      <td>344448</td>\n",
       "      <td>node-153</td>\n",
       "      <td>unix.hw</td>\n",
       "      <td>state_change.unavailable</td>\n",
       "      <td>4088</td>\n",
       "    </tr>\n",
       "    <tr>\n",
       "      <th>4</th>\n",
       "      <td>366633</td>\n",
       "      <td>node-200</td>\n",
       "      <td>unix.hw</td>\n",
       "      <td>state_change.unavailable</td>\n",
       "      <td>2538</td>\n",
       "    </tr>\n",
       "  </tbody>\n",
       "</table>\n",
       "</div>"
      ],
      "text/plain": [
       "       id      node component                     state  hwid\n",
       "0  134681  node-246   unix.hw  state_change.unavailable  1973\n",
       "1  350766  node-109   unix.hw  state_change.unavailable  3180\n",
       "2  344518  node-246   unix.hw  state_change.unavailable  5089\n",
       "3  344448  node-153   unix.hw  state_change.unavailable  4088\n",
       "4  366633  node-200   unix.hw  state_change.unavailable  2538"
      ]
     },
     "execution_count": 24,
     "metadata": {},
     "output_type": "execute_result"
    }
   ],
   "source": [
    "import re\n",
    "import pandas as pd\n",
    "\n",
    "# Путь к файлу логов\n",
    "log_file_path = 'HPC_2k.log'\n",
    "\n",
    "# Список для хранения результатов парсинга\n",
    "parsed_logs = []\n",
    "\n",
    "# Регулярное выражение для текущего формата строк логов\n",
    "regex_pattern = r\"(\\d+)\\s+(\\w+-\\d+)\\s+([\\w\\.]+)\\s+([\\w\\.]+)\\s+\\d+\\s+.*\\(HWID=(\\d+)\\)\"\n",
    "\n",
    "# Чтение файла и парсинг строк\n",
    "with open(log_file_path, 'r') as file:\n",
    "    for line in file:\n",
    "        match = re.search(regex_pattern, line)\n",
    "        if match:\n",
    "            parsed_logs.append({\n",
    "                'id': match.group(1),\n",
    "                'node': match.group(2),\n",
    "                'component': match.group(3),\n",
    "                'state': match.group(4),\n",
    "                'hwid': match.group(5)\n",
    "            })\n",
    "\n",
    "# Преобразование в DataFrame\n",
    "logs_df = pd.DataFrame(parsed_logs)\n",
    "logs_df.head()"
   ]
  },
  {
   "cell_type": "code",
   "execution_count": null,
   "id": "d76b0cc3-8ce4-4203-8134-aab43e8a3da8",
   "metadata": {},
   "outputs": [],
   "source": [
    "Сохранение данных в CSV"
   ]
  },
  {
   "cell_type": "code",
   "execution_count": 25,
   "id": "f920ab60-728f-4e82-b01e-7ea13f926f38",
   "metadata": {},
   "outputs": [
    {
     "name": "stdout",
     "output_type": "stream",
     "text": [
      "Данные сохранены в 'parsed_hpc_logs.csv'\n"
     ]
    }
   ],
   "source": [
    "logs_df.to_csv('parsed_hpc_logs.csv', index=False)\n",
    "print(\"Данные сохранены в 'parsed_hpc_logs.csv'\")"
   ]
  },
  {
   "cell_type": "code",
   "execution_count": 35,
   "id": "d003fb08-684f-4154-845f-0951e0099eb6",
   "metadata": {},
   "outputs": [
    {
     "name": "stdout",
     "output_type": "stream",
     "text": [
      "Distribution for 'node':\n",
      "node\n",
      "node-246    2\n",
      "node-109    1\n",
      "node-153    1\n",
      "node-200    1\n",
      "node-122    1\n",
      "node-228    1\n",
      "node-10     1\n",
      "node-130    1\n",
      "node-169    1\n",
      "node-187    1\n",
      "node-199    1\n",
      "Name: count, dtype: int64\n",
      "\n",
      "==================================================\n",
      "\n",
      "Distribution for 'component':\n",
      "component\n",
      "unix.hw    12\n",
      "Name: count, dtype: int64\n",
      "\n",
      "==================================================\n",
      "\n",
      "Distribution for 'state':\n",
      "state\n",
      "state_change.unavailable    12\n",
      "Name: count, dtype: int64\n"
     ]
    }
   ],
   "source": [
    "# Анализ распределения значений для столбца 'node'\n",
    "node_counts = logs_df['node'].value_counts()\n",
    "print(\"Distribution for 'node':\")\n",
    "print(node_counts)\n",
    "print(\"\\n\" + \"=\"*50 + \"\\n\")\n",
    "\n",
    "# Анализ распределения значений для столбца 'component'\n",
    "component_counts = logs_df['component'].value_counts()\n",
    "print(\"Distribution for 'component':\")\n",
    "print(component_counts)\n",
    "print(\"\\n\" + \"=\"*50 + \"\\n\")\n",
    "\n",
    "# Анализ распределения значений для столбца 'state'\n",
    "state_counts = logs_df['state'].value_counts()\n",
    "print(\"Distribution for 'state':\")\n",
    "print(state_counts)"
   ]
  },
  {
   "cell_type": "code",
   "execution_count": null,
   "id": "063554c3-551a-40aa-8b56-c7f384e77dda",
   "metadata": {},
   "outputs": [],
   "source": [
    "Tables"
   ]
  },
  {
   "cell_type": "code",
   "execution_count": 41,
   "id": "38993b97-55f1-4795-bd9e-26b28d680b02",
   "metadata": {},
   "outputs": [
    {
     "name": "stdout",
     "output_type": "stream",
     "text": [
      "Сводная таблица для столбцов логов HPC:\n",
      "                          node  component  state\n",
      "node-246                   2.0        NaN    NaN\n",
      "node-109                   1.0        NaN    NaN\n",
      "node-153                   1.0        NaN    NaN\n",
      "node-200                   1.0        NaN    NaN\n",
      "node-122                   1.0        NaN    NaN\n",
      "node-228                   1.0        NaN    NaN\n",
      "node-10                    1.0        NaN    NaN\n",
      "node-130                   1.0        NaN    NaN\n",
      "node-169                   1.0        NaN    NaN\n",
      "node-187                   1.0        NaN    NaN\n",
      "node-199                   1.0        NaN    NaN\n",
      "unix.hw                    NaN       12.0    NaN\n",
      "state_change.unavailable   NaN        NaN   12.0\n"
     ]
    }
   ],
   "source": [
    "import pandas as pd\n",
    "\n",
    "# Создание таблицы распределения значений для столбцов 'node', 'component', и 'state'\n",
    "summary_data = {\n",
    "    'node': logs_df['node'].value_counts(),\n",
    "    'component': logs_df['component'].value_counts(),\n",
    "    'state': logs_df['state'].value_counts()\n",
    "}\n",
    "\n",
    "# Преобразование в DataFrame\n",
    "summary_df = pd.DataFrame.from_dict(summary_data, orient='index').transpose()\n",
    "\n",
    "# Отображение таблицы\n",
    "print(\"Сводная таблица для столбцов логов HPC:\")\n",
    "print(summary_df)\n",
    "\n"
   ]
  },
  {
   "cell_type": "code",
   "execution_count": 42,
   "id": "96efae4f-f647-4625-bca1-2548687f6856",
   "metadata": {
    "scrolled": true
   },
   "outputs": [
    {
     "ename": "SyntaxError",
     "evalue": "invalid syntax (590177380.py, line 1)",
     "output_type": "error",
     "traceback": [
      "\u001b[0;36m  Cell \u001b[0;32mIn[42], line 1\u001b[0;36m\u001b[0m\n\u001b[0;31m    Построение графиков для столбцов node, component, и state:\u001b[0m\n\u001b[0m               ^\u001b[0m\n\u001b[0;31mSyntaxError\u001b[0m\u001b[0;31m:\u001b[0m invalid syntax\n"
     ]
    }
   ],
   "source": [
    "Построение графиков для столбцов node, component, и state:"
   ]
  },
  {
   "cell_type": "code",
   "execution_count": 43,
   "id": "c862da7f-3873-49c0-a542-b79c098cfb05",
   "metadata": {},
   "outputs": [
    {
     "data": {
      "image/png": "[encoded data removed]",
      "text/plain": [
       "<Figure size 1000x600 with 1 Axes>"
      ]
     },
     "metadata": {},
     "output_type": "display_data"
    },
    {
     "data": {
      "image/png": "[encoded data removed]",
      "text/plain": [
       "<Figure size 1000x600 with 1 Axes>"
      ]
     },
     "metadata": {},
     "output_type": "display_data"
    },
    {
     "data": {
      "image/png": "[encoded data removed]",
      "text/plain": [
       "<Figure size 1000x600 with 1 Axes>"
      ]
     },
     "metadata": {},
     "output_type": "display_data"
    }
   ],
   "source": [
    "# Создание графиков для каждого категориального столбца\n",
    "\n",
    "# Распределение значений для столбца 'node'\n",
    "node_counts = logs_df['node'].value_counts()\n",
    "plt.figure(figsize=(10, 6))\n",
    "node_counts.plot(kind='bar')\n",
    "plt.xlabel('Node')\n",
    "plt.ylabel('Count')\n",
    "plt.title('Distribution of Node')\n",
    "plt.xticks(rotation=45)\n",
    "plt.tight_layout()\n",
    "plt.show()\n",
    "\n",
    "# Распределение значений для столбца 'component'\n",
    "component_counts = logs_df['component'].value_counts()\n",
    "plt.figure(figsize=(10, 6))\n",
    "component_counts.plot(kind='bar')\n",
    "plt.xlabel('Component')\n",
    "plt.ylabel('Count')\n",
    "plt.title('Distribution of Component')\n",
    "plt.xticks(rotation=45)\n",
    "plt.tight_layout()\n",
    "plt.show()\n",
    "\n",
    "# Распределение значений для столбца 'state'\n",
    "state_counts = logs_df['state'].value_counts()\n",
    "plt.figure(figsize=(10, 6))\n",
    "state_counts.plot(kind='bar')\n",
    "plt.xlabel('State')\n",
    "plt.ylabel('Count')\n",
    "plt.title('Distribution of State')\n",
    "plt.xticks(rotation=45)\n",
    "plt.tight_layout()\n",
    "plt.show()"
   ]
  },
  {
   "cell_type": "code",
   "execution_count": 44,
   "id": "f1ac78f4-46af-4c1d-9f5a-5af60d496592",
   "metadata": {},
   "outputs": [
    {
     "name": "stdout",
     "output_type": "stream",
     "text": [
      "График сохранён в 'State_distribution.png'\n"
     ]
    },
    {
     "data": {
      "text/plain": [
       "<Figure size 640x480 with 0 Axes>"
      ]
     },
     "metadata": {},
     "output_type": "display_data"
    }
   ],
   "source": [
    "plt.savefig('State_distribution.png')\n",
    "print(\"График сохранён в 'State_distribution.png'\")"
   ]
  },
  {
   "cell_type": "code",
   "execution_count": null,
   "id": "965b2731-c7d0-406a-b934-1d969d2bb4ca",
   "metadata": {},
   "outputs": [],
   "source": []
  }
 ],
 "metadata": {
  "kernelspec": {
   "display_name": "Python 3 (ipykernel)",
   "language": "python",
   "name": "python3"
  },
  "language_info": {
   "codemirror_mode": {
    "name": "ipython",
    "version": 3
   },
   "file_extension": ".py",
   "mimetype": "text/x-python",
   "name": "python",
   "nbconvert_exporter": "python",
   "pygments_lexer": "ipython3",
   "version": "3.11.9"
  }
 },
 "nbformat": 4,
 "nbformat_minor": 5
}
